{
  "nbformat": 4,
  "nbformat_minor": 0,
  "metadata": {
    "colab": {
      "name": "List Functions.ipynb",
      "provenance": [],
      "collapsed_sections": [],
      "authorship_tag": "ABX9TyO1C1zgS1xIp5jILEQd4D0a",
      "include_colab_link": true
    },
    "kernelspec": {
      "name": "python3",
      "display_name": "Python 3"
    },
    "language_info": {
      "name": "python"
    }
  },
  "cells": [
    {
      "cell_type": "markdown",
      "metadata": {
        "id": "view-in-github",
        "colab_type": "text"
      },
      "source": [
        "<a href=\"https://colab.research.google.com/github/Anjali-Saravanan/List-Functions/blob/main/List_Functions.ipynb\" target=\"_parent\"><img src=\"https://colab.research.google.com/assets/colab-badge.svg\" alt=\"Open In Colab\"/></a>"
      ]
    },
    {
      "cell_type": "code",
      "execution_count": null,
      "metadata": {
        "id": "GT31E5Q21X3b"
      },
      "outputs": [],
      "source": [
        "#Order in ascending order\n",
        "prices = [238.11, 237.81, 238.91]\n",
        "prices.sort()\n",
        "print(prices)"
      ]
    },
    {
      "cell_type": "code",
      "source": [
        "#Get the type of object\n",
        "type(prices)"
      ],
      "metadata": {
        "id": "xYEHFtoz2KG4"
      },
      "execution_count": null,
      "outputs": []
    },
    {
      "cell_type": "code",
      "source": [
        "#Add an element to the list\n",
        "months = ['January', 'February', 'March']\n",
        "months.append('April')\n",
        "print(months)"
      ],
      "metadata": {
        "id": "y5n78v_X2NLG"
      },
      "execution_count": null,
      "outputs": []
    },
    {
      "cell_type": "code",
      "source": [
        "#Adding multiple items to list\n",
        "x = [1, 2, 3]\n",
        "x.extend([4, 5])\n",
        "x"
      ],
      "metadata": {
        "id": "y8XzGMmj2Lre"
      },
      "execution_count": null,
      "outputs": []
    },
    {
      "cell_type": "code",
      "source": [
        "#Get the index of a particular item in list\n",
        "months = ['January', 'February', 'March']\n",
        "months.index('February')"
      ],
      "metadata": {
        "id": "5hViO65f2-Bi"
      },
      "execution_count": null,
      "outputs": []
    },
    {
      "cell_type": "code",
      "source": [
        "#Find the maximum price in the list price\n",
        "prices = [159.54, 37.13, 71.17]\n",
        "price_max = max(prices)\n",
        "print(price_max)"
      ],
      "metadata": {
        "id": "eToguB4T3Tux"
      },
      "execution_count": null,
      "outputs": []
    },
    {
      "cell_type": "code",
      "source": [
        "#Find the minimum price in the list price\n",
        "prices = [238.11, 237.81, 238.91]\n",
        "min_price = min(prices)\n",
        "print(min_price)"
      ],
      "metadata": {
        "id": "jkbiJFHF3Yfg"
      },
      "execution_count": null,
      "outputs": []
    },
    {
      "cell_type": "code",
      "source": [
        "#Length of the list\n",
        "prices = [238.11, 237.81, 238.91]\n",
        "length = len(prices)\n",
        "print(length)"
      ],
      "metadata": {
        "id": "xez6qnGu3YlM"
      },
      "execution_count": null,
      "outputs": []
    }
  ]
}